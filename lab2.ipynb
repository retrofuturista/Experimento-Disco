{
 "cells": [
  {
   "cell_type": "code",
   "execution_count": 1,
   "metadata": {},
   "outputs": [],
   "source": [
    "import numpy as np\n",
    "import matplotlib.pyplot as plt"
   ]
  },
  {
   "cell_type": "code",
   "execution_count": 2,
   "metadata": {},
   "outputs": [],
   "source": [
    "l_onda  = 640e-9 \n",
    "delta_onda = 10e-9"
   ]
  },
  {
   "cell_type": "code",
   "execution_count": 3,
   "metadata": {},
   "outputs": [],
   "source": [
    "L = np.array([107.3e-2,84.0e-2,110.5e-2,76e-2])\n",
    "delta_L = 0.05e-2*np.ones((1,4))"
   ]
  },
  {
   "cell_type": "code",
   "execution_count": 4,
   "metadata": {},
   "outputs": [],
   "source": [
    "x2 = np.array([107e-2,86e-2,108.8e-2,75.4e-2])\n",
    "error_x = 0.05e-2*np.ones((1,4))\n",
    "x = x2/2"
   ]
  },
  {
   "cell_type": "code",
   "execution_count": 5,
   "metadata": {},
   "outputs": [
    {
     "data": {
      "text/plain": [
       "array([0.43155195, 0.44006505, 0.42746248, 0.42990035])"
      ]
     },
     "execution_count": 5,
     "metadata": {},
     "output_type": "execute_result"
    }
   ],
   "source": [
    "np.sin(x/np.sqrt(x**2+L**2))"
   ]
  },
  {
   "cell_type": "code",
   "execution_count": 6,
   "metadata": {},
   "outputs": [],
   "source": [
    "d = (l_onda*np.sqrt(x**2+L**2))/x"
   ]
  },
  {
   "cell_type": "code",
   "execution_count": 7,
   "metadata": {},
   "outputs": [
    {
     "name": "stdout",
     "output_type": "stream",
     "text": [
      "[2.24108486 2.19456529 2.26406196 2.25031415]\n",
      "[-2.14713707e-06 -2.58812157e-06 -2.14397404e-06 -3.06577273e-06]\n",
      "[1.07056695e-06 1.32487176e-06 1.05549491e-06 1.52078463e-06]\n"
     ]
    }
   ],
   "source": [
    "d_o = (np.sqrt(x**2+L**2))/x\n",
    "d_x = -L**2*l_onda/(x**2*np.sqrt(x**2+L**2))\n",
    "d_L = l_onda*L/(x*np.sqrt(x**2+L**2))\n",
    "print(d_o)\n",
    "print(d_x)\n",
    "print(d_L)"
   ]
  },
  {
   "cell_type": "code",
   "execution_count": 8,
   "metadata": {},
   "outputs": [],
   "source": [
    "d_d = np.sqrt((d_o*delta_onda)**2+(d_x*error_x)**2+(d_L*delta_L)**2)"
   ]
  },
  {
   "cell_type": "code",
   "execution_count": 9,
   "metadata": {},
   "outputs": [],
   "source": [
    "promedio = np.mean(d)\n",
    "desviacion = np.std(d,ddof=1)"
   ]
  },
  {
   "cell_type": "code",
   "execution_count": 10,
   "metadata": {},
   "outputs": [
    {
     "data": {
      "text/plain": [
       "array([1.43429431e-06, 1.40452179e-06, 1.44899965e-06, 1.44020106e-06])"
      ]
     },
     "execution_count": 10,
     "metadata": {},
     "output_type": "execute_result"
    }
   ],
   "source": [
    "d"
   ]
  },
  {
   "cell_type": "code",
   "execution_count": 11,
   "metadata": {},
   "outputs": [
    {
     "data": {
      "text/plain": [
       "1.4320042018556821e-06"
      ]
     },
     "execution_count": 11,
     "metadata": {},
     "output_type": "execute_result"
    }
   ],
   "source": [
    "promedio "
   ]
  },
  {
   "cell_type": "code",
   "execution_count": 12,
   "metadata": {},
   "outputs": [
    {
     "name": "stdout",
     "output_type": "stream",
     "text": [
      "1.4320042018556821e-06 2.241922857203862e-08\n"
     ]
    }
   ],
   "source": [
    "error_d = np.mean(d_d)\n",
    "print(promedio,error_d)"
   ]
  },
  {
   "cell_type": "markdown",
   "metadata": {},
   "source": [
    "\\begin{equation}\n",
    "    d = 1.43 \\pm 0.02 \\mu m\n",
    "\\end{equation}"
   ]
  },
  {
   "cell_type": "markdown",
   "metadata": {},
   "source": [
    "\\begin{align}\n",
    "    d\\sin{\\phi} &= \\lambda \\\\\n",
    "    d &= \\frac{\\lambda}{\\sin{\\phi}} \\\\\n",
    "    d &= \\frac{\\lambda}{\\sin{(\\arctan{x/L})}} \\\\\n",
    "    d &= \\frac{\\lambda\\sqrt{x^2+L^2}}{x}\n",
    "\\end{align}"
   ]
  },
  {
   "cell_type": "code",
   "execution_count": 13,
   "metadata": {},
   "outputs": [],
   "source": [
    "A = (11.9e-2/2)**2*np.pi - (4e-2/2)**2*np.pi"
   ]
  },
  {
   "cell_type": "code",
   "execution_count": 14,
   "metadata": {},
   "outputs": [
    {
     "name": "stdout",
     "output_type": "stream",
     "text": [
      "0.009865386330435346 9.860110133942768e-05\n"
     ]
    }
   ],
   "source": [
    "d_A = np.sqrt(((11.9e-2/2)*np.pi*0.05e-2)**2+((4e-2/2)*np.pi*0.05e-2)**2)\n",
    "print(A,d_A)"
   ]
  },
  {
   "cell_type": "markdown",
   "metadata": {},
   "source": [
    "\\begin{equation}\n",
    "    A = 98.7 \\pm 0.1 \\,[cm]^2\n",
    "\\end{equation}"
   ]
  },
  {
   "cell_type": "code",
   "execution_count": 15,
   "metadata": {},
   "outputs": [
    {
     "name": "stdout",
     "output_type": "stream",
     "text": [
      "1.6105657750041584e-12 5.0429519959969636e-14\n"
     ]
    }
   ],
   "source": [
    "surco = (promedio/2)**2*np.pi\n",
    "d_surco =  (promedio/2)*np.pi*error_d\n",
    "print(surco,d_surco)"
   ]
  },
  {
   "cell_type": "code",
   "execution_count": 16,
   "metadata": {},
   "outputs": [
    {
     "name": "stdout",
     "output_type": "stream",
     "text": [
      "6125416598.033616 201331025.53019363\n"
     ]
    }
   ],
   "source": [
    "capacidad_en_bits = A/surco\n",
    "error_capa_bits = np.sqrt((d_A/surco)**2+(-d_surco*A/surco**2)**2)\n",
    "print(capacidad_en_bits,error_capa_bits)"
   ]
  },
  {
   "cell_type": "code",
   "execution_count": 17,
   "metadata": {},
   "outputs": [
    {
     "name": "stdout",
     "output_type": "stream",
     "text": [
      "765.677074754202 25.1663781912742\n"
     ]
    }
   ],
   "source": [
    "capacidad_en_MB = capacidad_en_bits/8e6\n",
    "error_capa_MB = error_capa_bits/8e6\n",
    "print(capacidad_en_MB,error_capa_MB)"
   ]
  },
  {
   "cell_type": "code",
   "execution_count": 18,
   "metadata": {},
   "outputs": [],
   "source": [
    "LLL = 7.1e-2"
   ]
  },
  {
   "cell_type": "code",
   "execution_count": 19,
   "metadata": {},
   "outputs": [],
   "source": [
    "x_a = 2.95e-2\n",
    "x_v = 3.8e-2"
   ]
  },
  {
   "cell_type": "code",
   "execution_count": 20,
   "metadata": {},
   "outputs": [],
   "source": [
    "def angulo(x,l):\n",
    "    return x/np.sqrt(x**2+l**2)"
   ]
  },
  {
   "cell_type": "code",
   "execution_count": 21,
   "metadata": {},
   "outputs": [],
   "source": [
    "agua = promedio*angulo(x_a,LLL)\n",
    "vacio = promedio*angulo(x_v,LLL)"
   ]
  },
  {
   "cell_type": "code",
   "execution_count": 22,
   "metadata": {},
   "outputs": [
    {
     "data": {
      "text/plain": [
       "(5.494480605805521e-07, 6.757295304691417e-07)"
      ]
     },
     "execution_count": 22,
     "metadata": {},
     "output_type": "execute_result"
    }
   ],
   "source": [
    "agua,vacio"
   ]
  },
  {
   "cell_type": "code",
   "execution_count": 23,
   "metadata": {},
   "outputs": [
    {
     "data": {
      "text/plain": [
       "1.2298333162831796"
      ]
     },
     "execution_count": 23,
     "metadata": {},
     "output_type": "execute_result"
    }
   ],
   "source": [
    "vacio/agua"
   ]
  },
  {
   "cell_type": "code",
   "execution_count": null,
   "metadata": {},
   "outputs": [],
   "source": []
  },
  {
   "cell_type": "code",
   "execution_count": null,
   "metadata": {},
   "outputs": [],
   "source": []
  }
 ],
 "metadata": {
  "kernelspec": {
   "display_name": "Python 3",
   "language": "python",
   "name": "python3"
  },
  "language_info": {
   "codemirror_mode": {
    "name": "ipython",
    "version": 3
   },
   "file_extension": ".py",
   "mimetype": "text/x-python",
   "name": "python",
   "nbconvert_exporter": "python",
   "pygments_lexer": "ipython3",
   "version": "3.8.5"
  }
 },
 "nbformat": 4,
 "nbformat_minor": 4
}
